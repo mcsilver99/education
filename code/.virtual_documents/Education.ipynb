














# Import pandas, numpy, and matplotlib
import pandas as pd
import numpy as np
import matplotlib.pyplot as plt

# seaborn is a data visualization library built on matplotlib
import seaborn as sns

# set the plotting style
sns.set_style("whitegrid")

# Import libraries for statistical modeling
import statsmodels.formula.api as smf
from statsmodels.formula.api import ols
from sklearn.metrics import *
from statsmodels.stats.anova import anova_lm












import requests

url = "https://www.dropbox.com/s/lkl5nvcdmwyoban/ccd_sch_029_1617_w_1a_11212017.csv?dl=1"
r = requests.get(url)
open("ccd_sch_029_1617_w_1a_11212017.csv", "wb").write(r.content)


school_information = pd.read_csv(
    "ccd_sch_029_1617_w_1a_11212017.csv", encoding="unicode_escape"
)





school_information.head()





school_information.info()











edgap = pd.read_excel('https://raw.githubusercontent.com/mcsilver99/education/main/data/EdGap_data.xlsx', engine ='openpyxl', dtype={'NCESSCH Schhool ID': object})






edgap.head()





edgap.info()











student_teacher = pd.read_csv(
    'https://raw.githubusercontent.com/mcsilver99/education/main/data/ELSI_csv_export.csv',
    encoding='latin1'
)





student_teacher.head()





student_teacher.info()














sns.pairplot(edgap.drop(columns = 'NCESSCH School ID'))
plt.show








fig = sns.pairplot(
    edgap.drop(columns="NCESSCH School ID"),
    kind="reg",
    plot_kws={
        "line_kws": {"color": "blue"},
        "scatter_kws": {"alpha": 0.5, "color": "k", "s": 7}
    }
)

for ax in fig.axes.flat: 
    if ax.get_xlabel() == 'CT Median Household Income':
        ax.ticklabel_format(style='sci', axis='x', scilimits=(0,0))  # Apply scientific notation
        
    ax.set_xlabel(ax.get_xlabel(), fontsize=8, rotation=30, ha='right')  # x-axis label
    ax.set_ylabel(ax.get_ylabel(), fontsize=8)  # y-axis label
    
    # Rotate x-axis tick labels
    plt.setp(ax.get_xticklabels(), rotation=30, ha='right')

plt.show()
















school_information = school_information[
    ['SCHOOL_YEAR', 'NCESSCH', 'LSTATE', 'LZIP', 'SCH_TYPE_TEXT', 'LEVEL', 'CHARTER_TEXT']
]





student_teacher = student_teacher[
    ['NCESSCH', 'Pupil_Teacher_Ratio']
]








edgap = edgap.rename(
    columns={
        "NCESSCH School ID": "id",
        "CT Pct Adults with College Degree": "percent_college",
        "CT Unemployment Rate": "rate_unemployment",
        "CT Pct Childre In Married Couple Family": "percent_married",
        "CT Median Household Income": "median_income",
        "School ACT average (or equivalent if SAT score)": "average_act",
        "School Pct Free and Reduced Lunch": "percent_lunch",
    }
)


school_information = school_information.rename(
    columns={
        "SCHOOL_YEAR": "year",
        "NCESSCH": "id",
        "LSTATE": "state",
        "LZIP": "zip_code",
        "SCH_TYPE_TEXT": "school_type",
        "LEVEL": "school_level",
        "CHARTER_TEXT": "charter"
    }
)


student_teacher=student_teacher.rename(
    columns={
        "NCESSCH": "id", 
        "Pupil_Teacher_Ratio": "student_teacher_ratio",
    }
)











school_information['id'] = school_information['id'].astype('object')


student_teacher['id'] = student_teacher['id'].astype('object')


edgap['id'] = edgap['id'].astype('object')








df = edgap.merge(school_information, how='left', on='id')


df.info()





df = df.merge(student_teacher, how='left', on='id')


df.info()











df.describe()











df.loc[df['percent_lunch'] < 0, 'percent_lunch'] = np.nan


df.loc[df['average_act'] < 1, 'average_act'] = np.nan





df['school_type'].value_counts()


df['school_level'].value_counts()





df = df.loc[df['school_level'] == 'High']





df.duplicated().sum()








percent_missing = df.isna().mean().round(4) * 100

percent_missing.to_frame(name='Percent Missing Values')








import plotly.offline as po
import plotly.graph_objs as pg


layout = dict(
    geo={"scope": "usa"}, coloraxis_colorbar=dict(title="Number of Schools")
)

data = dict(
    type="choropleth",
    locations=df["state"].value_counts().index,
    locationmode="USA-states",
    z=df["state"].value_counts().values,
    coloraxis="coloraxis",
)

x = pg.Figure(data=[data], layout=layout)

po.iplot(x)








df = df.dropna(subset=['average_act'])











predictor_variables = [
    'rate_unemployment',
    'percent_college',
    'percent_married',
    'median_income',
    'percent_lunch',
    'state',
    'charter',
    'student_teacher_ratio'
]





from sklearn.experimental import enable_iterative_imputer
from sklearn.impute import IterativeImputer


imputer = IterativeImputer()








numerical_predictors = df[predictor_variables].select_dtypes(include='number').columns.to_list()

print(numerical_predictors)





imputer.fit(df.loc[:, numerical_predictors])





df.loc[:, numerical_predictors] = imputer.transform(df.loc[:, numerical_predictors])





df.isna().sum().to_frame(name='Number of Missing Values')





df.to_csv(
    'education_clean.csv',
    encoding='utf-8-sig',
    index=False
)

















plt.figure(figsize=(10,3))

fractions = list(numerical_predictors)
fractions.remove('median_income')

sns.boxplot(data=df[fractions], color='k')

plt.ylabel('Proportion', fontsize=15)

plt.tick_params(labelsize=12)

plt.show()








plt.figure(figsize=(3,3))
sns.boxplot(data=df, y='median_income', color='k')
plt.ylabel('Median income ($)')

plt.show()








plt.figure(figsize=(3,3))
sns.boxplot(data=df, y='student_teacher_ratio', color='k')
plt.ylabel('Students per teacher')

plt.show()





plt.figure(figsize=(3,3))
sns.boxplot(data=df, y='student_teacher_ratio', color='k')
plt.ylabel('Students per teacher')

plt.ylim(2,100)

plt.show()








lower = df['student_teacher_ratio'].quantile(0.01)
upper = df['student_teacher_ratio'].quantile(0.99)
df = df[(df['student_teacher_ratio'] >= lower) & 
                 (df['student_teacher_ratio'] <= upper)]


plt.figure(figsize=(3,3))
sns.boxplot(data=df_filtered1, y='student_teacher_ratio', color='k')
plt.ylabel('Students per teacher')

plt.show()





df['student_teacher_ratio'].agg(['min', 'max'])











predictor_variables = ["rate_unemployment", "percent_college", "percent_married",
 "median_income", "percent_lunch","student_teacher_ratio"]

numerical_predictors = df[predictor_variables].select_dtypes(include='number').columns.to_list()

corr_matrix = df[numerical_predictors + ["average_act"]].corr()

plt.figure(figsize=(10,5))

sns.heatmap(
    corr_matrix, vmax=1, vmin=-1, square=True, annot=True, cmap="viridis"
)

plt.tick_params(labelsize=12)

plt.show()








fig = sns.pairplot(
    data = df,
    vars = numerical_predictors + ['average_act'],
    kind="reg",
    plot_kws={"scatter_kws": {"alpha": 0.5, "color": "k", "s": 7}
    }
)

for ax in fig.axes.flat: 
    if ax.get_xlabel() == 'CT Median Household Income':
        ax.ticklabel_format(style='sci', axis='x', scilimits=(0,0))  
        
    ax.set_xlabel(ax.get_xlabel(), fontsize=8, rotation=30, ha='right')  
    ax.set_ylabel(ax.get_ylabel(), fontsize=8)
    
    # Rotate x-axis tick labels
    plt.setp(ax.get_xticklabels(), rotation=30, ha='right')

plt.show()














plt.figure(figsize=(6,6))

sns.regplot(data=df, 
            x = 'student_teacher_ratio',
            y='average_act',
            color='blue',
            ci=False, 
            scatter_kws={'color':'black', 'edgecolors':'white', 'linewidths':1})

# Add axel labels
plt.xlabel('Students per Teacher', fontsize=16)
plt.ylabel('Average ACT score', fontsize=16)

# Increase the fontsize of the tick labels
plt.tick_params(labelsize=14)

plt.show()








model_st_ratio = smf.ols(formula='average_act ~ student_teacher_ratio', data=df).fit()


print(model_st_ratio.summary())





mean_absolute_error(df['average_act'], model_st_ratio.predict())














model = smf.ols(
    formula='average_act ~ rate_unemployment + percent_college + percent_married + median_income + percent_lunch+student_teacher_ratio',
    data=df).fit()


print(model.summary())








y_hat = model.predict()


plt.figure(figsize=(5,5))

plt.plot(y_hat, model.resid, 'ko', mec = 'w')
plt.axhline(0, color='r', linestyle='dashed', lw=2)

plt.xlabel('Predicted average ACT score', fontsize=16)
plt.ylabel('Residual average ACT score', fontsize=16)

plt.tick_params(labelsize=14)

plt.show()








mean_absolute_error(df['average_act'], model.predict())








model_reduced = smf.ols(
    formula='average_act ~ rate_unemployment + percent_college + percent_lunch+student_teacher_ratio',
    data=df).fit()


print(model_reduced.summary())





mean_absolute_error(df['average_act'], model_reduced.predict())








mae_full = mean_absolute_error(df['average_act'], model.predict())
mae_reduced = mean_absolute_error(df['average_act'], model_reduced.predict())

r1_full = model.rsquared
r2_reduced = model_reduced.rsquared

pd.DataFrame({'Mean Absolute Error': [mae_full, mae_reduced], 
              'R-squared': [r1_full, r2_reduced]}, 
             index = ['full model', 'reduced model']).round(4)





anova_lm(model_reduced, model)








model_full_ratio = smf.ols(
    formula='average_act ~ rate_unemployment + percent_college + percent_married + median_income + percent_lunch',
    data=df).fit()


print(model_reduced_ratio.summary())





mae_full = mean_absolute_error(df['average_act'], model.predict())
mae_reduced = mean_absolute_error(df['average_act'], model_reduced.predict())
mae_full_ratio = mean_absolute_error(df['average_act'], model_full_ratio.predict())

r1_full = model.rsquared
r2_reduced = model_reduced.rsquared
r3_full_ratio = model_reduced_ratio.rsquared

pd.DataFrame({'Mean Absolute Error': [mae_full, mae_reduced, mae_full_ratio], 
              'R-squared': [r1_full, r2_reduced, r3_full_ratio]}, 
             index = ['full model', 'reduced model','full model excl. S-T ratio']).round(4)



