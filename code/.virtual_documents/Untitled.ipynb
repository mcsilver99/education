





# Import pandas, numpy, and matplotlib
import pandas as pd
import numpy as np
import matplotlib.pyplot as plt

# seaborn is a data visualization library built on matplotlib
import seaborn as sns

# set the plotting style
sns.set_style("whitegrid")
     









import requests

url = "https://www.dropbox.com/s/lkl5nvcdmwyoban/ccd_sch_029_1617_w_1a_11212017.csv?dl=1"
r = requests.get(url)
open("ccd_sch_029_1617_w_1a_11212017.csv", "wb").write(r.content)


school_information = pd.read_csv(
    "ccd_sch_029_1617_w_1a_11212017.csv", encoding="unicode_escape"
)


school_information.head()


school_information.info()








edgap = pd.read_excel('https://raw.githubusercontent.com/mcsilver99/education/main/data/EdGap_data.xlsx', engine ='openpyxl', dtype={'NCESSCH Schhool ID': object})



edgap.head()


edgap.info()








reportcard = pd.read_csv("https://raw.githubusercontent.com/mcsilver99/education/main/data/report_card.csv", dtype ={'SchoolOrganizationId':object})


reportcard.head()

















sns.pairplot(edgap.drop(columns = 'NCESSCH School ID'))
plt.show








fig = sns.pairplot(
    edgap.drop(columns="NCESSCH School ID"),
    kind="reg",
    plot_kws={
        "line_kws": {"color": "blue"},
        "scatter_kws": {"alpha": 0.5, "color": "k", "s": 7}
    }
)

for ax in fig.axes.flat: 
    if ax.get_xlabel() == 'CT Median Household Income':
        ax.ticklabel_format(style='sci', axis='x', scilimits=(0,0))  # Apply scientific notation
        
    ax.set_xlabel(ax.get_xlabel(), fontsize=8, rotation=30, ha='right')  # x-axis label
    ax.set_ylabel(ax.get_ylabel(), fontsize=8)  # y-axis label
    
    # Rotate x-axis tick labels
    plt.setp(ax.get_xticklabels(), rotation=30, ha='right')

plt.show()







fig = sns.pairplot(
    edgap.drop(columns="NCESSCH School ID"),
    y_vars = ['School ACT average (or equivalent if SAT score)'],
    kind ="reg",
    plot_kws = {
        "line_kws": {"color": "blue"},
        "scatter_kws": {"alpha": 0.5, "color": "k", "s": 7}
    }
)

for ax in fig.axes.flat: 
    if ax.get_xlabel() == 'CT Median Household Income':
        ax.ticklabel_format(style='sci', axis='x', scilimits=(0,0))  # Apply scientific notation
        
    ax.set_xlabel(ax.get_xlabel(), fontsize=8, rotation=30, ha='right')  # x-axis label
    ax.set_ylabel(ax.get_ylabel(), fontsize=8)  # y-axis label
    
    # Rotate x-axis tick labels
    plt.setp(ax.get_xticklabels(), rotation=30, ha='right')

plt.show()













school_information = school_information[
    ['SCHOOL_YEAR', 'NCESSCH', 'LSTATE', 'LZIP', 'SCH_TYPE_TEXT', 'LEVEL', 'CHARTER_TEXT']
]


school_information.head()


#### Rename columns


edgap = edgap.rename(
    columns={
        "NCESSCH School ID": "id",
        "CT Pct Adults with College Degree": "percent_college",
        "CT Unemployment Rate": "rate_unemployment",
        "CT Pct Childre In Married Couple Family": "percent_married",
        "CT Median Household Income": "median_income",
        "School ACT average (or equivalent if SAT score)": "average_act",
        "School Pct Free and Reduced Lunch": "percent_lunch",
    }
)


school_information = school_information.rename(
    columns={
        "SCHOOL_YEAR": "year",
        "NCESSCH": "id",
        "LSTATE": "state",
        "LZIP": "zip_code",
        "SCH_TYPE_TEXT": "school_type",
        "LEVEL": "school_level",
        "CHARTER_TEXT": "charter"
    }
)








school_information['id'] = school_information['id'].astype('object')


school_information.info()





df = edgap.merge(
    school_information,
    how='left',
    on='id'
)











df.describe()





df.select_dtypes(include=['number']).agg(['min', 'max']).round(2)





df.loc[df['percent_lunch'] < 0, 'percent_lunch'] = np.nan


df.loc[df['average_act'] < 1, 'average_act'] = np.nan





df['school_type'].value_counts()


df['school_level'].value_counts()


df['charter'].value_counts()





df = df.loc[df['school_level'] == 'High']





df.duplicated().sum()











df.isna().sum().to_frame(name='Number of Missing Values')





percent_missing = df.isna().mean().round(4) * 100

percent_missing.to_frame(name='Percent Missing Values')





df['state'].value_counts()





import plotly.offline as po
import plotly.graph_objs as pg


layout = dict(
    geo={"scope": "usa"}, coloraxis_colorbar=dict(title="Number of Schools")
)

data = dict(
    type="choropleth",
    locations=df["state"].value_counts().index,
    locationmode="USA-states",
    z=df["state"].value_counts().values,
    coloraxis="coloraxis",
)

x = pg.Figure(data=[data], layout=layout)

po.iplot(x)





df = df.dropna(subset=['average_act'])


df.isna().sum().to_frame(name='Number of Missing Values')














predictor_variables = [
    'rate_unemployment',
    'percent_college',
    'percent_married',
    'median_income',
    'percent_lunch',
    'state',
    'charter'
]





from sklearn.experimental import enable_iterative_imputer
from sklearn.impute import IterativeImputer


imputer = IterativeImputer()








numerical_predictors = df[predictor_variables].select_dtypes(include='number').columns.to_list()

print(numerical_predictors)





imputer.fit(df.loc[:, numerical_predictors])





df.loc[:, numerical_predictors] = imputer.transform(df.loc[:, numerical_predictors])





df.isna().sum().to_frame(name='Number of Missing Values')





df.to_csv(
    'education_clean.csv',
    encoding='utf-8-sig',
    index=False
)














df.head()





predictor_variables = ["rate_unemployment", "percent_college", "percent_married",
 "median_income", "percent_lunch"]

numerical_predictors = df[predictor_variables].select_dtypes(include='number').columns.to_list()

corr_matrix = df[numerical_predictors + ["average_act"]].corr()

plt.figure(figsize=(10,5))

sns.heatmap(
    corr_matrix, vmax=1, vmin=-1, square=True, annot=True, cmap="viridis"
)

plt.tick_params(labelsize=12)

plt.show()








fig = sns.pairplot(
    data = df,
    vars = numerical_predictors + ['average_act'],
    hue = 'charter',
    kind="reg",
    plot_kws={"scatter_kws": {"alpha": 0.5, "color": "k", "s": 7}
    }
)

for ax in fig.axes.flat: 
    if ax.get_xlabel() == 'CT Median Household Income':
        ax.ticklabel_format(style='sci', axis='x', scilimits=(0,0))  # Apply scientific notation
        
    ax.set_xlabel(ax.get_xlabel(), fontsize=8, rotation=30, ha='right')  # x-axis label
    ax.set_ylabel(ax.get_ylabel(), fontsize=8)  # y-axis label
    
    # Rotate x-axis tick labels
    plt.setp(ax.get_xticklabels(), rotation=30, ha='right')

plt.show()











plt.figure(figsize=(10,3))

fractions = list(numerical_predictors)
fractions.remove('median_income')

sns.boxplot(data=df[fractions], color='k')

plt.ylabel('Proportion', fontsize=15)

plt.tick_params(labelsize=12)

plt.show()








plt.figure(figsize=(3,3))
sns.boxplot(data=df, y='median_income', color='k')
plt.ylabel('Median income ($)')

plt.show()









