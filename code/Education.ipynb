{
 "cells": [
  {
   "cell_type": "markdown",
   "id": "809a2314-2df2-4905-b4d7-c9fe99c50f8a",
   "metadata": {},
   "source": [
    "# Code for Education project"
   ]
  },
  {
   "cell_type": "code",
   "execution_count": null,
   "id": "89cf3e73-ce43-4630-af20-dc8771dfe96c",
   "metadata": {},
   "outputs": [],
   "source": []
  }
 ],
 "metadata": {
  "kernelspec": {
   "display_name": "Python 3 (ipykernel)",
   "language": "python",
   "name": "python3"
  },
  "language_info": {
   "codemirror_mode": {
    "name": "ipython",
    "version": 3
   },
   "file_extension": ".py",
   "mimetype": "text/x-python",
   "name": "python",
   "nbconvert_exporter": "python",
   "pygments_lexer": "ipython3",
   "version": "3.13.5"
  }
 },
 "nbformat": 4,
 "nbformat_minor": 5
}
